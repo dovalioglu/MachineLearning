{
 "cells": [
  {
   "cell_type": "code",
   "execution_count": 57,
   "metadata": {
    "collapsed": false,
    "scrolled": true
   },
   "outputs": [
    {
     "name": "stdout",
     "output_type": "stream",
     "text": [
      "Populating the interactive namespace from numpy and matplotlib\n"
     ]
    },
    {
     "name": "stderr",
     "output_type": "stream",
     "text": [
      "WARNING: pylab import has clobbered these variables: ['sinc']\n",
      "`%matplotlib` prevents importing * from pylab and numpy\n"
     ]
    },
    {
     "name": "stdout",
     "output_type": "stream",
     "text": [
      "0.66618705036\n"
     ]
    },
    {
     "ename": "NameError",
     "evalue": "name 'sklearn' is not defined",
     "output_type": "error",
     "traceback": [
      "\u001b[0;31m---------------------------------------------------------------------------\u001b[0m",
      "\u001b[0;31mNameError\u001b[0m                                 Traceback (most recent call last)",
      "\u001b[0;32m<ipython-input-57-f2f7195ef984>\u001b[0m in \u001b[0;36m<module>\u001b[0;34m()\u001b[0m\n\u001b[1;32m     38\u001b[0m \u001b[0;32mprint\u001b[0m \u001b[0mclf\u001b[0m\u001b[0;34m.\u001b[0m\u001b[0mscore\u001b[0m\u001b[0;34m(\u001b[0m\u001b[0mX_test\u001b[0m\u001b[0;34m,\u001b[0m\u001b[0my_test\u001b[0m\u001b[0;34m)\u001b[0m\u001b[0;34m\u001b[0m\u001b[0m\n\u001b[1;32m     39\u001b[0m \u001b[0;31m# Confusion matrix\u001b[0m\u001b[0;34m\u001b[0m\u001b[0;34m\u001b[0m\u001b[0m\n\u001b[0;32m---> 40\u001b[0;31m \u001b[0msklearn\u001b[0m\u001b[0;34m.\u001b[0m\u001b[0mmetrics\u001b[0m\u001b[0;34m.\u001b[0m\u001b[0mconfusion_matrix\u001b[0m\u001b[0;34m(\u001b[0m\u001b[0my_test\u001b[0m\u001b[0;34m,\u001b[0m \u001b[0mclf\u001b[0m\u001b[0;34m.\u001b[0m\u001b[0mpredict\u001b[0m\u001b[0;34m(\u001b[0m\u001b[0mX_test\u001b[0m\u001b[0;34m)\u001b[0m\u001b[0;34m)\u001b[0m\u001b[0;34m\u001b[0m\u001b[0m\n\u001b[0m\u001b[1;32m     41\u001b[0m \u001b[0;31m# Visualising\u001b[0m\u001b[0;34m\u001b[0m\u001b[0;34m\u001b[0m\u001b[0m\n\u001b[1;32m     42\u001b[0m \u001b[0mdot_data\u001b[0m \u001b[0;34m=\u001b[0m \u001b[0mStringIO\u001b[0m\u001b[0;34m(\u001b[0m\u001b[0;34m)\u001b[0m\u001b[0;34m\u001b[0m\u001b[0m\n",
      "\u001b[0;31mNameError\u001b[0m: name 'sklearn' is not defined"
     ]
    }
   ],
   "source": [
    "%pylab inline\n",
    "from sklearn import tree\n",
    "import numpy as np\n",
    "import csv\n",
    "import pydotplus\n",
    "from sklearn import metrics\n",
    "from sklearn.externals.six import StringIO\n",
    "from sklearn.cross_validation import train_test_split\n",
    "from IPython.display import Image\n",
    "mtrx = np.matrix(numpy.loadtxt(open(\"speed_dating_actual_data.csv\",\"rU\"),delimiter=\",\",skiprows=1))\n",
    "# Creating our label vector\n",
    "labels = mtrx[:,0]\n",
    "# Creating our attribute vectors\n",
    "attr = np.subtract(mtrx[:,7], mtrx[:,1])\n",
    "sinc = np.subtract(mtrx[:,8], mtrx[:,2])\n",
    "fun = np.subtract(mtrx[:,9], mtrx[:,4])\n",
    "inte = np.subtract(mtrx[:,10], mtrx[:,3])\n",
    "amb = np.subtract(mtrx[:,11], mtrx[:,5])\n",
    "# Implementing the decision tree\n",
    "X = np.column_stack((attr, sinc, fun, inte, amb))\n",
    "Y = labels\n",
    "# Creating the training set, test set and CV set\n",
    "# First divide in trainingset and testset0\n",
    "X_train, X_test0, y_train, y_test0 = train_test_split(\n",
    "     X, Y, test_size=0.4, random_state=0)\n",
    "# Then divide testset0 into testset and cv set\n",
    "X_test, X_cv, y_test, y_cv = train_test_split(\n",
    "     X_test0, y_test0, test_size=0.5, random_state=0)\n",
    "# Finding the best depth for the decision tree with CV\n",
    "depth = []\n",
    "for i in range(3,200):\n",
    "    clf = tree.DecisionTreeClassifier(max_depth=i)\n",
    "    clf = clf.fit(X_train,y_train)\n",
    "    depth.append((i, clf.score(X_cv, y_cv)))\n",
    "# Implementing the decision tree with depth 4\n",
    "clf = tree.DecisionTreeClassifier(max_depth=4)\n",
    "clf = clf.fit(X_train,y_train)\n",
    "# find score on test set\n",
    "print clf.score(X_test,y_test)\n",
    "# Confusion matrix\n",
    "sklearn.metrics.confusion_matrix(y_test, clf.predict(X_test))\n",
    "# Visualising\n",
    "dot_data = StringIO()\n",
    "tree.export_graphviz(clf, out_file=dot_data, \n",
    "                         feature_names=['attr', 'sinc', 'fun', 'inte', 'amb'],  \n",
    "                         class_names=['0', '1'],  \n",
    "                         filled=True, rounded=True,  \n",
    "                         impurity=False)\n",
    "graph = pydotplus.graph_from_dot_data(dot_data.getvalue())\n",
    "graph.write_pdf(\"tree.pdf\")"
   ]
  },
  {
   "cell_type": "markdown",
   "metadata": {
    "collapsed": true
   },
   "source": [
    "# Visualising the Decision Tree\n",
    "dot_data = StringIO()\n",
    "tree.export_graphviz(clf, out_file=dot_data)\n",
    "graph = pydotplus.graph_from_dot_data(dot_data.getvalue())\n",
    "graph.write_pdf(\"tree.pdf\")\n",
    "\n",
    "dot_data = tree.export_graphviz(clf, out_file=None)\n",
    "graph = pydotplus.graph_from_dot_data(dot_data)\n",
    "graph.write_pdf(\"tree.pdf\")\n",
    "\n",
    "dot_data = StringIO()\n",
    "tree.export_graphviz(clf, out_file=dot_data, \n",
    "                         feature_names=['attr', 'sinc', 'fun', 'inte', 'amb'],  \n",
    "                         class_names=['0', '1'],  \n",
    "                         filled=True, rounded=True,  \n",
    "                         impurity=False)\n",
    "graph = pydotplus.graph_from_dot_data(dot_data.getvalue())\n",
    "graph.write_pdf(\"tree.pdf\")\n",
    "\n",
    "with open(\"X.dot\", 'w') as f:\n",
    "     f = tree.export_graphviz(clf, out_file=f)\n",
    "dot_data = tree.export_graphviz(clf, out_file=None, \n",
    "                         feature_names=['attr', 'sinc', 'fun', 'inte', 'amb'],  \n",
    "                         class_names=['0', '1'],  \n",
    "                         filled=True, rounded=True,  \n",
    "                         special_characters=True)\n",
    "graph = pydotplus.graph_from_dot_data(dot_data)\n",
    "Image(graph.create_png())\n",
    "\n",
    "dotfile = open(\"X.dot\", 'w')\n",
    "tree.export_graphviz(clf, out_file = dotfile, feature_names = ['attr', 'sinc', 'fun', 'inte', 'amb'])\n",
    "dotfile.close()\n",
    "system(\"dot -Tpng clf2.dot -o clf2.png\")"
   ]
  },
  {
   "cell_type": "markdown",
   "metadata": {
    "collapsed": true
   },
   "source": []
  },
  {
   "cell_type": "code",
   "execution_count": 56,
   "metadata": {
    "collapsed": false
   },
   "outputs": [
    {
     "name": "stdout",
     "output_type": "stream",
     "text": [
      "Populating the interactive namespace from numpy and matplotlib\n",
      "(6949, 1)\n"
     ]
    },
    {
     "name": "stderr",
     "output_type": "stream",
     "text": [
      "WARNING: pylab import has clobbered these variables: ['sinc']\n",
      "`%matplotlib` prevents importing * from pylab and numpy\n"
     ]
    },
    {
     "ename": "NameError",
     "evalue": "name 'sklearn' is not defined",
     "output_type": "error",
     "traceback": [
      "\u001b[0;31m---------------------------------------------------------------------------\u001b[0m",
      "\u001b[0;31mNameError\u001b[0m                                 Traceback (most recent call last)",
      "\u001b[0;32m<ipython-input-56-c3d2c6f74be8>\u001b[0m in \u001b[0;36m<module>\u001b[0;34m()\u001b[0m\n\u001b[1;32m     19\u001b[0m \u001b[0mkmlabels\u001b[0m \u001b[0;34m=\u001b[0m \u001b[0mkmeans\u001b[0m\u001b[0;34m.\u001b[0m\u001b[0mlabels_\u001b[0m\u001b[0;34m\u001b[0m\u001b[0m\n\u001b[1;32m     20\u001b[0m \u001b[0mcentroids\u001b[0m \u001b[0;34m=\u001b[0m \u001b[0mkmeans\u001b[0m\u001b[0;34m.\u001b[0m\u001b[0mcluster_centers_\u001b[0m\u001b[0;34m\u001b[0m\u001b[0m\n\u001b[0;32m---> 21\u001b[0;31m \u001b[0;32mprint\u001b[0m\u001b[0;34m(\u001b[0m\u001b[0;34m\"Homogeneity: %0.3f\"\u001b[0m \u001b[0;34m%\u001b[0m \u001b[0msklearn\u001b[0m\u001b[0;34m.\u001b[0m\u001b[0mmetrics\u001b[0m\u001b[0;34m.\u001b[0m\u001b[0mhomogeneity_score\u001b[0m\u001b[0;34m(\u001b[0m\u001b[0mlabels\u001b[0m\u001b[0;34m,\u001b[0m \u001b[0mkmlabels\u001b[0m\u001b[0;34m)\u001b[0m\u001b[0;34m)\u001b[0m\u001b[0;34m\u001b[0m\u001b[0m\n\u001b[0m",
      "\u001b[0;31mNameError\u001b[0m: name 'sklearn' is not defined"
     ]
    }
   ],
   "source": [
    "%pylab inline\n",
    "from sklearn.cluster import KMeans\n",
    "from sklearn import metrics\n",
    "import numpy as np\n",
    "import csv\n",
    "mtrx = np.matrix(numpy.loadtxt(open(\"speed_dating_actual_data.csv\",\"rU\"),delimiter=\",\",skiprows=1))\n",
    "# Creating our label vector\n",
    "labels = mtrx[:,0]\n",
    "print labels.shape\n",
    "# Creating our attribute vectors\n",
    "attr = np.subtract(mtrx[:,7], mtrx[:,1])\n",
    "sinc = np.subtract(mtrx[:,8], mtrx[:,2])\n",
    "fun = np.subtract(mtrx[:,9], mtrx[:,4])\n",
    "inte = np.subtract(mtrx[:,10], mtrx[:,3])\n",
    "amb = np.subtract(mtrx[:,11], mtrx[:,5])\n",
    "# Implementing KMeans\n",
    "X = np.column_stack((attr, sinc, fun, inte, amb))\n",
    "kmeans = KMeans(n_clusters=2, random_state=0).fit(X)\n",
    "kmlabels = kmeans.labels_\n",
    "centroids = kmeans.cluster_centers_\n",
    "print(\"Homogeneity: %0.3f\" % sklearn.metrics.homogeneity_score(labels, kmlabels))"
   ]
  },
  {
   "cell_type": "code",
   "execution_count": null,
   "metadata": {
    "collapsed": true
   },
   "outputs": [],
   "source": []
  }
 ],
 "metadata": {
  "anaconda-cloud": {},
  "kernelspec": {
   "display_name": "Python [Root]",
   "language": "python",
   "name": "Python [Root]"
  },
  "language_info": {
   "codemirror_mode": {
    "name": "ipython",
    "version": 2
   },
   "file_extension": ".py",
   "mimetype": "text/x-python",
   "name": "python",
   "nbconvert_exporter": "python",
   "pygments_lexer": "ipython2",
   "version": "2.7.12"
  }
 },
 "nbformat": 4,
 "nbformat_minor": 0
}
